{
 "cells": [
  {
   "cell_type": "code",
   "execution_count": 1,
   "metadata": {},
   "outputs": [],
   "source": [
    "# import the packages\n",
    "import numpy as np\n",
    "import torch\n",
    "import difftrace as dg\n",
    "# load the lens\n",
    "device = torch.device('cpu')\n",
    "dtype = torch.float64\n",
    "wavelengths = torch.Tensor([dg.lambda_F, dg.lambda_d, dg.lambda_C]).to(device)\n",
    "views = torch.tensor(np.array([0., 10., 14.]), dtype=dtype, device=device)\n",
    "lens = dg.System('lens_file/doubleGauss.json', dtype=dtype, device=device)\n",
    "ana = dg.Analysis(lens, views=views, wavelengths=wavelengths, dtype=dtype, device=device)\n",
    "merit_dict = {\"spot_diagram\": {\n",
    "    \"weight\": 1.0,\n",
    "    \"target\": [0.0, 0.0, 0.0], # the target must align with the output shape of the merit function\n",
    "    \"views\": views,\n",
    "    \"wavelengths\": wavelengths,\n",
    "    \"M\": 6,\n",
    "    \"R\": None,\n",
    "    \"sampling\": \"grid\",\n",
    "    \"entrance_pupil\": True,\n",
    "    \"show\": False\n",
    "    }}"
   ]
  },
  {
   "cell_type": "code",
   "execution_count": null,
   "metadata": {},
   "outputs": [],
   "source": [
    "# this optimization part is under construction, will be updated later\n",
    "opt = dg.Optimize(lens, views, wavelengths, merit_dict, False, dtype, device)\n",
    "opt.optimize_wz_trf()"
   ]
  }
 ],
 "metadata": {
  "kernelspec": {
   "display_name": "pytorch201",
   "language": "python",
   "name": "python3"
  },
  "language_info": {
   "codemirror_mode": {
    "name": "ipython",
    "version": 3
   },
   "file_extension": ".py",
   "mimetype": "text/x-python",
   "name": "python",
   "nbconvert_exporter": "python",
   "pygments_lexer": "ipython3",
   "version": "3.9.6"
  }
 },
 "nbformat": 4,
 "nbformat_minor": 2
}
